{
 "cells": [
  {
   "cell_type": "code",
   "execution_count": 59,
   "metadata": {},
   "outputs": [
    {
     "name": "stderr",
     "output_type": "stream",
     "text": [
      "C:\\Users\\saulo\\AppData\\Local\\Temp\\ipykernel_11568\\3292490714.py:12: DeprecationWarning: executable_path has been deprecated, please pass in a Service object\n",
      "  driver = webdriver.Chrome(executable_path=driver_path)\n"
     ]
    }
   ],
   "source": [
    "import selenium\n",
    "from selenium import webdriver\n",
    "from selenium.webdriver.common.keys import Keys\n",
    "import time\n",
    "import pandas as pd\n",
    "from selenium.webdriver.common.by import By\n",
    "from bs4 import BeautifulSoup\n",
    "import pyautogui\n",
    "\n",
    "\n",
    "driver_path = \"chromedriver.exe\"\n",
    "driver = webdriver.Chrome(executable_path=driver_path)\n",
    "driver.set_window_size(1024, 600)\n",
    "driver.maximize_window()\n",
    "\n",
    "driver.get(\"https://esaj.tjsp.jus.br/cjsg/resultadoCompleta.do\")\n",
    "time.sleep(1)\n",
    "\n",
    "x = \"\\\"APELAÇÃO CRIMINAL\\\" E \\\"ROUBO MAJORADO\\\"\"\n",
    "\n",
    "\n",
    "driver.find_element(By.XPATH, \"/html/body/table[4]/tbody/tr/td/form/div[2]/table[2]/tbody/tr/td[2]/input\").send_keys(x)\n",
    "driver.find_element(By.XPATH, \"/html/body/table[4]/tbody/tr/td/form/div[3]/table[2]/tbody/tr[9]/td[2]/table/tbody/tr/td[1]/table/tbody/tr/td[1]/span/input\").send_keys(\"2ª Câmara de Direito Criminal\")\n",
    "driver.find_element(By.XPATH, \"/html/body/table[4]/tbody/tr/td/form/table/tbody/tr/td[2]/input[1]\").click()\n",
    "\n",
    "time.sleep(3)\n",
    "\n",
    "\n",
    "list_processo = []\n",
    "list_classe = []\n",
    "list_julgador = []\n",
    "\n",
    "\n",
    "for i in range(1, 21):\n",
    "        processo = driver.find_element(By.XPATH, f'/html/body/table[4]/tbody/tr/td/div/div/table/tbody/tr/td[1]/div/table/tbody/tr[{i}]/td[2]/table/tbody/tr[1]/td/a[1]')\n",
    "        soup_processo = BeautifulSoup(processo.get_attribute('outerHTML'), 'html.parser')\n",
    "\n",
    "        classe = driver.find_element(By.XPATH, f'/html/body/table[4]/tbody/tr/td/div/div/table/tbody/tr/td[1]/div/table/tbody/tr[{i}]/td[2]/table/tbody/tr[2]/td')\n",
    "        soup_classe = BeautifulSoup(classe.get_attribute('outerHTML'), 'html.parser')\n",
    "\n",
    "        julgador = driver.find_element(By.XPATH, f'/html/body/table[4]/tbody/tr/td/div/div/table/tbody/tr/td[1]/div/table/tbody/tr[{i}]/td[2]/table/tbody/tr[5]/td')\n",
    "        soup_julgador = BeautifulSoup(julgador.get_attribute('outerHTML'), 'html.parser')\n",
    "\n",
    "\n",
    "        list_processo.append(soup_processo.text)\n",
    "        list_classe.append(soup_classe.text)\n",
    "        list_julgador.append(soup_julgador.text)\n",
    "\n",
    "\n",
    "for i in range(1, 101):\n",
    "    pyautogui.click(1868, 951)\n",
    "    time.sleep(3)\n",
    "\n",
    "    for i in range(1, 21):\n",
    "        processo = driver.find_element(By.XPATH, f'/html/body/table[4]/tbody/tr/td/div/div/table/tbody/tr/td[1]/div/table/tbody/tr[{i}]/td[2]/table/tbody/tr[1]/td/a[1]')\n",
    "        soup_processo = BeautifulSoup(processo.get_attribute('outerHTML'), 'html.parser')\n",
    "\n",
    "        classe = driver.find_element(By.XPATH, f'/html/body/table[4]/tbody/tr/td/div/div/table/tbody/tr/td[1]/div/table/tbody/tr[{i}]/td[2]/table/tbody/tr[2]/td')\n",
    "        soup_classe = BeautifulSoup(classe.get_attribute('outerHTML'), 'html.parser')\n",
    "\n",
    "        julgador = driver.find_element(By.XPATH, f'/html/body/table[4]/tbody/tr/td/div/div/table/tbody/tr/td[1]/div/table/tbody/tr[{i}]/td[2]/table/tbody/tr[5]/td')\n",
    "        soup_julgador = BeautifulSoup(julgador.get_attribute('outerHTML'), 'html.parser')\n",
    "\n",
    "\n",
    "        list_processo.append(soup_processo.text)\n",
    "        list_classe.append(soup_classe.text)\n",
    "        list_julgador.append(soup_julgador.text)\n",
    "        \n",
    "\n",
    "\n",
    "\n",
    "\n",
    "\n",
    "\n",
    "df_processo = pd.DataFrame(list_processo)\n",
    "df_processo = df_processo.replace(f'\\n', '', regex=True)\n",
    "df_processo = df_processo.replace(f'\\t', '', regex=True)\n",
    "\n",
    "df_classe = pd.DataFrame(list_classe)\n",
    "df_classe = df_classe.replace(f'\\n', '', regex=True)\n",
    "df_classe = df_classe.replace(f'\\t', '', regex=True)\n",
    "df_classe = df_classe.replace(f'Classe/Assunto:', '', regex=True)\n",
    "\n",
    "df_julgador = pd.DataFrame(list_julgador)\n",
    "df_julgador = df_julgador.replace(f'\\n', '', regex=True)\n",
    "df_julgador = df_julgador.replace(f'\\t', '', regex=True)\n",
    "df_julgador = df_julgador.replace(f'Órgão julgador:', '', regex=True)\n",
    "\n",
    "df1 = pd.concat([df_processo, df_classe], axis=1)\n",
    "df = pd.concat([df1, df_julgador], axis=1)\n",
    "\n",
    "df.columns = ['Processo', 'Classe', 'Orgão Julgador']\n",
    "\n",
    "\n"
   ]
  },
  {
   "cell_type": "code",
   "execution_count": 60,
   "metadata": {},
   "outputs": [
    {
     "data": {
      "text/html": [
       "<div>\n",
       "<style scoped>\n",
       "    .dataframe tbody tr th:only-of-type {\n",
       "        vertical-align: middle;\n",
       "    }\n",
       "\n",
       "    .dataframe tbody tr th {\n",
       "        vertical-align: top;\n",
       "    }\n",
       "\n",
       "    .dataframe thead th {\n",
       "        text-align: right;\n",
       "    }\n",
       "</style>\n",
       "<table border=\"1\" class=\"dataframe\">\n",
       "  <thead>\n",
       "    <tr style=\"text-align: right;\">\n",
       "      <th></th>\n",
       "      <th>Processo</th>\n",
       "      <th>Classe</th>\n",
       "      <th>Orgão Julgador</th>\n",
       "    </tr>\n",
       "  </thead>\n",
       "  <tbody>\n",
       "    <tr>\n",
       "      <th>0</th>\n",
       "      <td>1501352-79.2021.8.26.0616</td>\n",
       "      <td>Apelação Criminal / Roubo Majorado</td>\n",
       "      <td>9ª Câmara de Direito Criminal</td>\n",
       "    </tr>\n",
       "    <tr>\n",
       "      <th>1</th>\n",
       "      <td>1501420-17.2022.8.26.0544</td>\n",
       "      <td>Apelação Criminal / Roubo Majorado</td>\n",
       "      <td>10ª Câmara de Direito Criminal</td>\n",
       "    </tr>\n",
       "    <tr>\n",
       "      <th>2</th>\n",
       "      <td>1502235-50.2022.8.26.0338</td>\n",
       "      <td>Apelação Criminal / Roubo Majorado</td>\n",
       "      <td>9ª Câmara de Direito Criminal</td>\n",
       "    </tr>\n",
       "    <tr>\n",
       "      <th>3</th>\n",
       "      <td>1501435-60.2019.8.26.0618</td>\n",
       "      <td>Apelação Criminal / Roubo Majorado</td>\n",
       "      <td>9ª Câmara de Direito Criminal</td>\n",
       "    </tr>\n",
       "    <tr>\n",
       "      <th>4</th>\n",
       "      <td>1500934-47.2021.8.26.0615</td>\n",
       "      <td>Apelação Criminal / Roubo Majorado</td>\n",
       "      <td>9ª Câmara de Direito Criminal</td>\n",
       "    </tr>\n",
       "    <tr>\n",
       "      <th>...</th>\n",
       "      <td>...</td>\n",
       "      <td>...</td>\n",
       "      <td>...</td>\n",
       "    </tr>\n",
       "    <tr>\n",
       "      <th>2015</th>\n",
       "      <td>0031043-17.2016.8.26.0576</td>\n",
       "      <td>Apelação Criminal / Homicídio Qualificado</td>\n",
       "      <td>16ª Câmara de Direito Criminal</td>\n",
       "    </tr>\n",
       "    <tr>\n",
       "      <th>2016</th>\n",
       "      <td>1500958-66.2022.8.26.0542</td>\n",
       "      <td>Apelação Criminal / Roubo</td>\n",
       "      <td>3ª Câmara de Direito Criminal</td>\n",
       "    </tr>\n",
       "    <tr>\n",
       "      <th>2017</th>\n",
       "      <td>1500446-11.2022.8.26.0566</td>\n",
       "      <td>Apelação Criminal / Roubo Majorado</td>\n",
       "      <td>3ª Câmara de Direito Criminal</td>\n",
       "    </tr>\n",
       "    <tr>\n",
       "      <th>2018</th>\n",
       "      <td>1537705-70.2021.8.26.0050</td>\n",
       "      <td>Apelação Criminal / Roubo Majorado</td>\n",
       "      <td>3ª Câmara de Direito Criminal</td>\n",
       "    </tr>\n",
       "    <tr>\n",
       "      <th>2019</th>\n",
       "      <td>2111769-13.2022.8.26.0000</td>\n",
       "      <td>Revisão Criminal / Roubo</td>\n",
       "      <td>6º Grupo de Direito Criminal</td>\n",
       "    </tr>\n",
       "  </tbody>\n",
       "</table>\n",
       "<p>2020 rows × 3 columns</p>\n",
       "</div>"
      ],
      "text/plain": [
       "                       Processo                                      Classe  \\\n",
       "0     1501352-79.2021.8.26.0616          Apelação Criminal / Roubo Majorado   \n",
       "1     1501420-17.2022.8.26.0544          Apelação Criminal / Roubo Majorado   \n",
       "2     1502235-50.2022.8.26.0338          Apelação Criminal / Roubo Majorado   \n",
       "3     1501435-60.2019.8.26.0618          Apelação Criminal / Roubo Majorado   \n",
       "4     1500934-47.2021.8.26.0615          Apelação Criminal / Roubo Majorado   \n",
       "...                         ...                                         ...   \n",
       "2015  0031043-17.2016.8.26.0576   Apelação Criminal / Homicídio Qualificado   \n",
       "2016  1500958-66.2022.8.26.0542                   Apelação Criminal / Roubo   \n",
       "2017  1500446-11.2022.8.26.0566          Apelação Criminal / Roubo Majorado   \n",
       "2018  1537705-70.2021.8.26.0050          Apelação Criminal / Roubo Majorado   \n",
       "2019  2111769-13.2022.8.26.0000                    Revisão Criminal / Roubo   \n",
       "\n",
       "                      Orgão Julgador  \n",
       "0      9ª Câmara de Direito Criminal  \n",
       "1     10ª Câmara de Direito Criminal  \n",
       "2      9ª Câmara de Direito Criminal  \n",
       "3      9ª Câmara de Direito Criminal  \n",
       "4      9ª Câmara de Direito Criminal  \n",
       "...                              ...  \n",
       "2015  16ª Câmara de Direito Criminal  \n",
       "2016   3ª Câmara de Direito Criminal  \n",
       "2017   3ª Câmara de Direito Criminal  \n",
       "2018   3ª Câmara de Direito Criminal  \n",
       "2019    6º Grupo de Direito Criminal  \n",
       "\n",
       "[2020 rows x 3 columns]"
      ]
     },
     "execution_count": 60,
     "metadata": {},
     "output_type": "execute_result"
    }
   ],
   "source": [
    "df"
   ]
  },
  {
   "cell_type": "code",
   "execution_count": 90,
   "metadata": {},
   "outputs": [
    {
     "name": "stderr",
     "output_type": "stream",
     "text": [
      "C:\\Users\\saulo\\AppData\\Local\\Temp\\ipykernel_11568\\1656120590.py:2: DeprecationWarning: executable_path has been deprecated, please pass in a Service object\n",
      "  driver = webdriver.Chrome(executable_path=driver_path)\n"
     ]
    }
   ],
   "source": [
    "driver_path = \"chromedriver.exe\"\n",
    "driver = webdriver.Chrome(executable_path=driver_path)\n",
    "driver.set_window_size(1024, 600)\n",
    "driver.maximize_window()\n",
    "\n",
    "list_ar = []\n",
    "list_pc = []\n",
    "\n",
    "driver.get(\"https://esaj.tjsp.jus.br/cposg/open.do\")\n",
    "time.sleep(1)\n",
    "x = \"1501352-79.2021.8.26.0616\"\n",
    "\n",
    "driver.find_element(By.XPATH, \"/html/body/div[2]/form/section/div[2]/div/div[1]/div[1]/div/fieldset/input[2]\").click()\n",
    "driver.find_element(By.XPATH, \"/html/body/div[2]/form/section/div[2]/div/div[1]/div[1]/span[2]/input\").send_keys(x)\n",
    "time.sleep(1)\n",
    "driver.find_element(By.XPATH, \"/html/body/div[2]/form/section/div[4]/div/input\").click()\n",
    "time.sleep(1)\n",
    "pyautogui.scroll(-500) \n",
    "time.sleep(0.5)\n",
    "pyautogui.click(1487, 744)\n",
    "\n",
    "tabela = driver.find_element(By.ID,'tabelaTodasMovimentacoes')\n",
    "tabela_string = tabela.text\n",
    "posicao_ar = tabela_string.find('Acórdão registrado')\n",
    "data_ar = tabela_string[posicao_ar-11:posicao_ar-1]\n",
    "list_ar.append(data_ar)\n",
    "\n",
    "posicao_pc = tabela_string.find('Processo Cadastrado')\n",
    "data_pc = tabela_string[posicao_pc-11:posicao_pc-1]\n",
    "list_pc.append(data_pc)"
   ]
  },
  {
   "cell_type": "code",
   "execution_count": 84,
   "metadata": {},
   "outputs": [
    {
     "name": "stdout",
     "output_type": "stream",
     "text": [
      "2361\n"
     ]
    },
    {
     "data": {
      "text/plain": [
       "'31/10/2022 '"
      ]
     },
     "execution_count": 84,
     "metadata": {},
     "output_type": "execute_result"
    }
   ],
   "source": [
    "tst\n",
    "print(a.find('Processo Cadastrado'))\n",
    "\n",
    "x = a[2350:2361]\n",
    "x"
   ]
  },
  {
   "cell_type": "code",
   "execution_count": 92,
   "metadata": {},
   "outputs": [
    {
     "data": {
      "text/plain": [
       "['28/04/2023']"
      ]
     },
     "execution_count": 92,
     "metadata": {},
     "output_type": "execute_result"
    }
   ],
   "source": [
    "list_ar"
   ]
  }
 ],
 "metadata": {
  "kernelspec": {
   "display_name": "Python 3",
   "language": "python",
   "name": "python3"
  },
  "language_info": {
   "codemirror_mode": {
    "name": "ipython",
    "version": 3
   },
   "file_extension": ".py",
   "mimetype": "text/x-python",
   "name": "python",
   "nbconvert_exporter": "python",
   "pygments_lexer": "ipython3",
   "version": "3.9.11"
  },
  "orig_nbformat": 4
 },
 "nbformat": 4,
 "nbformat_minor": 2
}
